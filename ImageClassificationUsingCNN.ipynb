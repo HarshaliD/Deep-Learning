{
  "cells": [
    {
      "cell_type": "markdown",
      "metadata": {
        "id": "view-in-github",
        "colab_type": "text"
      },
      "source": [
        "<a href=\"https://colab.research.google.com/github/HarshaliD/Deep-Learning/blob/main/ImageClassificationUsingCNN.ipynb\" target=\"_parent\"><img src=\"https://colab.research.google.com/assets/colab-badge.svg\" alt=\"Open In Colab\"/></a>"
      ]
    },
    {
      "cell_type": "markdown",
      "source": [
        "# Image Classification Using CNN\n",
        "What is CNN?\n",
        "\n",
        "A **Convolutional Neural Network (CNN)** is a type of deep learning algorithm that is particularly well-suited for image recognition and processing tasks. It is made up of multiple layers, including convolutional layers, pooling layers, and fully connected layers."
      ],
      "metadata": {
        "id": "lbb5XKz-wRzR"
      }
    },
    {
      "cell_type": "markdown",
      "metadata": {
        "id": "siVg3kYAnOBT"
      },
      "source": [
        "In this notebook , 2 examples for application of CNN are showed.\n",
        "\n",
        "*First,*\n",
        "CNN is applied on **CIFAR10 Dataset.**\n",
        "*Second,*\n",
        "CNN is applied on **MNIST dataset**\n",
        "\n",
        "# CIFAR10 Dataset\n",
        "[Link to Dataset](https://www.cs.toronto.edu/~kriz/cifar.html])\n",
        "\n",
        "Dataset has following features:\n",
        "\n",
        "\n",
        "1.   It has 60000 32*32 color images in 10 classes.\n",
        "2.   \n",
        "50000 training images and 10000 testing images\n",
        "3.3 RGB Channel\n",
        "\n"
      ]
    },
    {
      "cell_type": "markdown",
      "source": [
        "**Matplotlib**: Matplotlib is a comprehensive library for creating static, animated, and interactive visualizations in Python. plt is a commonly used alias for the pyplot module, which provides a MATLAB-like interface for plotting.\n",
        "\n",
        "**TensorFlow**: TensorFlow is an open-source machine learning library developed by the Google Brain team. It provides a comprehensive set of tools for building and deploying machine learning models. TensorFlow supports both deep learning and traditional machine learning.\n",
        "\n",
        "**Keras**: Keras is a high-level neural networks API written in Python that runs on top of various lower-level deep learning libraries, including TensorFlow. TensorFlow 2.x integrates Keras as its official high-level API.\n",
        "\n",
        "**Datasets**: The datasets module in Keras provides a collection of commonly used datasets for training and testing machine learning models. This includes datasets like MNIST, CIFAR-10, and more.\n",
        "\n",
        "**Layers**: The layers module in Keras includes a variety of pre-built layers that you can use to construct your neural network architectures. This includes dense layers, convolutional layers, recurrent layers, etc.\n",
        "\n",
        "**Models**: The models module in Keras provides a way to define and compile neural network models. It includes functions to create common architectures like Sequential models and more complex functional API-based models.\n",
        "\n",
        "**NumPy**: NumPy is a fundamental package for scientific computing in Python. It provides support for large, multi-dimensional arrays and matrices, along with a collection of mathematical functions to operate on these elements. NumPy is often used for data manipulation and preprocessing in machine learning."
      ],
      "metadata": {
        "id": "LJu0lDeIwQ6p"
      }
    },
    {
      "cell_type": "code",
      "execution_count": 70,
      "metadata": {
        "id": "a2_0iS8QnBJl"
      },
      "outputs": [],
      "source": [
        "import matplotlib.pyplot as plt\n",
        "import tensorflow as tf\n",
        "from tensorflow.keras import datasets,layers,models\n",
        "import numpy as np\n"
      ]
    },
    {
      "cell_type": "markdown",
      "source": [
        "Splitting a dataset into training and testing sets.\n",
        "\n",
        "**X_train** typically represents the features or input data used for training a machine learning model.\n",
        "\n",
        "**y_train** represents the corresponding labels or target values associated with the training data.\n",
        "\n",
        "**X_test** represents the features or input data for testing the model.\n",
        "\n",
        "**y_test** represents the corresponding labels or target values associated with the testing data.\n"
      ],
      "metadata": {
        "id": "_OFYM644ygD4"
      }
    },
    {
      "cell_type": "code",
      "execution_count": 71,
      "metadata": {
        "colab": {
          "base_uri": "https://localhost:8080/"
        },
        "id": "IQ3PxpaJn_ai",
        "outputId": "95d702f0-a622-4e49-cdbe-fa4f0def4bea"
      },
      "outputs": [
        {
          "output_type": "execute_result",
          "data": {
            "text/plain": [
              "(50000, 32, 32, 3)"
            ]
          },
          "metadata": {},
          "execution_count": 71
        }
      ],
      "source": [
        "(X_train,y_train),(X_test,y_test)= datasets.cifar10.load_data()\n",
        "X_train.shape"
      ]
    },
    {
      "cell_type": "code",
      "execution_count": 72,
      "metadata": {
        "colab": {
          "base_uri": "https://localhost:8080/"
        },
        "id": "gMvRAgMiocnf",
        "outputId": "f2a53e0a-b33b-4806-9d18-843966490f45"
      },
      "outputs": [
        {
          "output_type": "execute_result",
          "data": {
            "text/plain": [
              "(10000, 32, 32, 3)"
            ]
          },
          "metadata": {},
          "execution_count": 72
        }
      ],
      "source": [
        "X_test.shape"
      ]
    },
    {
      "cell_type": "code",
      "execution_count": 73,
      "metadata": {
        "colab": {
          "base_uri": "https://localhost:8080/"
        },
        "id": "W1Dytz3VooJj",
        "outputId": "81f44571-ba25-4a6e-f4c7-2c6b89097653"
      },
      "outputs": [
        {
          "output_type": "execute_result",
          "data": {
            "text/plain": [
              "array([[[ 59,  62,  63],\n",
              "        [ 43,  46,  45],\n",
              "        [ 50,  48,  43],\n",
              "        ...,\n",
              "        [158, 132, 108],\n",
              "        [152, 125, 102],\n",
              "        [148, 124, 103]],\n",
              "\n",
              "       [[ 16,  20,  20],\n",
              "        [  0,   0,   0],\n",
              "        [ 18,   8,   0],\n",
              "        ...,\n",
              "        [123,  88,  55],\n",
              "        [119,  83,  50],\n",
              "        [122,  87,  57]],\n",
              "\n",
              "       [[ 25,  24,  21],\n",
              "        [ 16,   7,   0],\n",
              "        [ 49,  27,   8],\n",
              "        ...,\n",
              "        [118,  84,  50],\n",
              "        [120,  84,  50],\n",
              "        [109,  73,  42]],\n",
              "\n",
              "       ...,\n",
              "\n",
              "       [[208, 170,  96],\n",
              "        [201, 153,  34],\n",
              "        [198, 161,  26],\n",
              "        ...,\n",
              "        [160, 133,  70],\n",
              "        [ 56,  31,   7],\n",
              "        [ 53,  34,  20]],\n",
              "\n",
              "       [[180, 139,  96],\n",
              "        [173, 123,  42],\n",
              "        [186, 144,  30],\n",
              "        ...,\n",
              "        [184, 148,  94],\n",
              "        [ 97,  62,  34],\n",
              "        [ 83,  53,  34]],\n",
              "\n",
              "       [[177, 144, 116],\n",
              "        [168, 129,  94],\n",
              "        [179, 142,  87],\n",
              "        ...,\n",
              "        [216, 184, 140],\n",
              "        [151, 118,  84],\n",
              "        [123,  92,  72]]], dtype=uint8)"
            ]
          },
          "metadata": {},
          "execution_count": 73
        }
      ],
      "source": [
        "X_train[0]        #3d array"
      ]
    },
    {
      "cell_type": "code",
      "execution_count": 74,
      "metadata": {
        "colab": {
          "base_uri": "https://localhost:8080/"
        },
        "id": "ZN7wYpP_aG-P",
        "outputId": "3719caa9-cdce-4ff9-a531-604fbfbd9c01"
      },
      "outputs": [
        {
          "output_type": "execute_result",
          "data": {
            "text/plain": [
              "array([[6],\n",
              "       [9],\n",
              "       [9],\n",
              "       [4],\n",
              "       [1]], dtype=uint8)"
            ]
          },
          "metadata": {},
          "execution_count": 74
        }
      ],
      "source": [
        "y_train[:5]  #2d"
      ]
    },
    {
      "cell_type": "code",
      "execution_count": 75,
      "metadata": {
        "colab": {
          "base_uri": "https://localhost:8080/"
        },
        "id": "mqqFh7_4aLBl",
        "outputId": "b7613aef-ae8d-4da8-da2d-22bb4e4e4a79"
      },
      "outputs": [
        {
          "output_type": "execute_result",
          "data": {
            "text/plain": [
              "array([6, 9, 9, 4, 1], dtype=uint8)"
            ]
          },
          "metadata": {},
          "execution_count": 75
        }
      ],
      "source": [
        "y_train = y_train.reshape(-1,)        #reshape can be used for flattening\n",
        "y_train[:5]                           #1d"
      ]
    },
    {
      "cell_type": "code",
      "execution_count": 76,
      "metadata": {
        "id": "9nFdVwbCZmdB"
      },
      "outputs": [],
      "source": [
        "classes= ['airplane','automobile','bird','cat','deer','dog','frog','horse','ship','truck']"
      ]
    },
    {
      "cell_type": "code",
      "execution_count": 77,
      "metadata": {
        "colab": {
          "base_uri": "https://localhost:8080/",
          "height": 36
        },
        "id": "gmfqxvb5aYqZ",
        "outputId": "a896eb19-f5e1-4d76-c829-272089679dd3"
      },
      "outputs": [
        {
          "output_type": "execute_result",
          "data": {
            "text/plain": [
              "'frog'"
            ],
            "application/vnd.google.colaboratory.intrinsic+json": {
              "type": "string"
            }
          },
          "metadata": {},
          "execution_count": 77
        }
      ],
      "source": [
        "classes[6]"
      ]
    },
    {
      "cell_type": "code",
      "execution_count": 78,
      "metadata": {
        "id": "R4OEouiToqH6"
      },
      "outputs": [],
      "source": [
        "def plot_sample(X,y,index):\n",
        "  plt.figure(figsize=(15,2))\n",
        "  plt.imshow(X[index])\n",
        "  plt.xlabel(classes[y[index]])"
      ]
    },
    {
      "cell_type": "code",
      "execution_count": 79,
      "metadata": {
        "colab": {
          "base_uri": "https://localhost:8080/",
          "height": 237
        },
        "id": "-ce0-dDtZb-o",
        "outputId": "6b5cf46f-9893-4b6d-8a2b-b99a9b819ee7"
      },
      "outputs": [
        {
          "output_type": "display_data",
          "data": {
            "text/plain": [
              "<Figure size 1500x200 with 1 Axes>"
            ],
            "image/png": "[encoded data removed]"
          },
          "metadata": {}
        }
      ],
      "source": [
        "plot_sample(X_train,y_train,0)"
      ]
    },
    {
      "cell_type": "code",
      "execution_count": 80,
      "metadata": {
        "colab": {
          "base_uri": "https://localhost:8080/",
          "height": 237
        },
        "id": "-m5hs7DPagGY",
        "outputId": "85ab9f4a-6e51-4180-845b-1e7163d57f21"
      },
      "outputs": [
        {
          "output_type": "display_data",
          "data": {
            "text/plain": [
              "<Figure size 1500x200 with 1 Axes>"
            ],
            "image/png": "[encoded data removed]"
          },
          "metadata": {}
        }
      ],
      "source": [
        "plot_sample(X_train,y_train,1)"
      ]
    },
    {
      "cell_type": "markdown",
      "source": [
        "**Normalization**\n",
        "\n",
        "Normalization is a data preprocessing technique used to adjust the values of features in a dataset to a common scale.\n",
        "\n",
        "Normalize the images to a number from 0 to 1. Image has 3 channels (R,G,B) and each value in the channel can range from 0 to 255. Hence to normalize in 0-->1 range, we need to divide it by 255"
      ],
      "metadata": {
        "id": "SfJRTKok1QdD"
      }
    },
    {
      "cell_type": "code",
      "execution_count": 81,
      "metadata": {
        "id": "YlfimHaLa3Pu"
      },
      "outputs": [],
      "source": [
        "#normalization i.e 0-1 range\n",
        "\n",
        "X_train=X_train/255\n",
        "X_test=X_test/255"
      ]
    },
    {
      "cell_type": "code",
      "source": [],
      "metadata": {
        "id": "vGFdngZX46uF"
      },
      "execution_count": null,
      "outputs": []
    },
    {
      "cell_type": "markdown",
      "source": [
        "**ANN (Artificial Neural Network)**\n",
        "\n",
        "ANNs typically have an input layer, one or more hidden layers, and an output layer. Information flows from the input layer through the hidden layers to produce an output.\n",
        "\n",
        "Weights and Activation Functions: Each connection between nodes has a weight, and each node applies an activation function to the weighted sum of its inputs. This introduces non-linearity, enabling the network to learn complex patterns.\n",
        "\n",
        "Learning: ANNs learn from data by adjusting the weights during a training process. This involves using a loss function to measure the difference between predicted and actual outputs and optimizing the weights to minimize this difference.\n",
        "\n",
        "First, let's build a ANN.Later, we can see the difference of performane of ANN and CNN."
      ],
      "metadata": {
        "id": "h6kFsWDi1dtm"
      }
    },
    {
      "cell_type": "code",
      "execution_count": 82,
      "metadata": {
        "colab": {
          "base_uri": "https://localhost:8080/"
        },
        "id": "w0AV5kuKbHuM",
        "outputId": "c26ccd38-e882-4d0b-ce6f-318fa5aae16e"
      },
      "outputs": [
        {
          "output_type": "stream",
          "name": "stdout",
          "text": [
            "Epoch 1/5\n",
            "1563/1563 [==============================] - 160s 102ms/step - loss: 1.8107 - accuracy: 0.3543\n",
            "Epoch 2/5\n",
            "1563/1563 [==============================] - 184s 118ms/step - loss: 1.6231 - accuracy: 0.4283\n",
            "Epoch 3/5\n",
            "1563/1563 [==============================] - 207s 132ms/step - loss: 1.5419 - accuracy: 0.4576\n",
            "Epoch 4/5\n",
            "1563/1563 [==============================] - 210s 134ms/step - loss: 1.4830 - accuracy: 0.4789\n",
            "Epoch 5/5\n",
            "1563/1563 [==============================] - 208s 133ms/step - loss: 1.4327 - accuracy: 0.4947\n"
          ]
        },
        {
          "output_type": "execute_result",
          "data": {
            "text/plain": [
              "<keras.src.callbacks.History at 0x7fbdac73d4b0>"
            ]
          },
          "metadata": {},
          "execution_count": 82
        }
      ],
      "source": [
        "#ANN\n",
        "ann = models.Sequential([\n",
        "    layers.Flatten(input_shape=(32,32,3)),\n",
        "    layers.Dense(3000,activation='relu'),\n",
        "    layers.Dense(1000,activation='relu'),\n",
        "    layers.Dense(10,activation='sigmoid')\n",
        "])\n",
        "\n",
        "ann.compile(optimizer='SGD',loss='sparse_categorical_crossentropy',metrics=['accuracy'])\n",
        "\n",
        "ann.fit(X_train,y_train,epochs=5)"
      ]
    },
    {
      "cell_type": "markdown",
      "source": [
        "**models.Sequential**: This creates a sequential neural network model, which is a linear stack of layers.\n",
        "\n",
        "**layers.Flatten**: This layer is used to flatten the input. In this case, it's used as the input layer to flatten the 32x32x3 image data to a 1D array.\n",
        "\n",
        "**layers.Dense**: These are fully connected layers, where each neuron is connected to every neuron in the previous layer.\n",
        "\n",
        "**ReLU (Rectified Linear Unit)**:\n",
        "\n",
        "Function: ReLU is an activation function commonly used in neural networks.It returns the input for positive values and zero for negative values. It introduces non-linearity and helps networks learn complex patterns.\n",
        "\n",
        "Mathematical Definition:\n",
        "f(x)=max(0,x)\n",
        "\n",
        "**Sigmoid:**\n",
        "\n",
        "Function: Sigmoid is another activation function used in neural networks.It squashes input values between 0 and 1, making it suitable for binary classification problems. It's often used in the output layer for binary classification tasks, providing probabilities that sum to 1.\n",
        "\n",
        "Mathematical Definition:\n",
        "f(x)=\n",
        "1/(1+e**(−x))\n",
        "\n",
        "**ann.compile**: Configures the model for training.\n",
        "\n",
        "**optimizer='SGD'**: Stochastic Gradient Descent is used as the optimizer for updating the model's weights during training.\n",
        "\n",
        "**loss='sparse_categorical_crossentropy':**This is the loss function used for training the model. It is commonly used for multi-class classification tasks.\n",
        "\n",
        "**metrics=['accuracy']**: Monitors the accuracy during training.\n",
        "\n",
        "**epochs=5**: Specifies the number of times the model should iterate over the entire training dataset during training."
      ],
      "metadata": {
        "id": "Jgbbil_-1_AO"
      }
    },
    {
      "cell_type": "markdown",
      "source": [
        "**You can see that at the end of 5 epochs, accuracy is at around 49%**"
      ],
      "metadata": {
        "id": "RbW4UN7a49u1"
      }
    },
    {
      "cell_type": "code",
      "execution_count": 83,
      "metadata": {
        "id": "88_8eQgccJP4",
        "colab": {
          "base_uri": "https://localhost:8080/"
        },
        "outputId": "20967f01-5409-415b-8921-57dc4113da12"
      },
      "outputs": [
        {
          "output_type": "stream",
          "name": "stdout",
          "text": [
            "313/313 [==============================] - 10s 32ms/step\n",
            "Classification Report for ANN: \n",
            "               precision    recall  f1-score   support\n",
            "\n",
            "           0       0.58      0.49      0.53      1000\n",
            "           1       0.65      0.52      0.58      1000\n",
            "           2       0.36      0.40      0.38      1000\n",
            "           3       0.30      0.48      0.37      1000\n",
            "           4       0.55      0.24      0.34      1000\n",
            "           5       0.45      0.29      0.36      1000\n",
            "           6       0.47      0.65      0.54      1000\n",
            "           7       0.65      0.44      0.53      1000\n",
            "           8       0.54      0.72      0.61      1000\n",
            "           9       0.51      0.59      0.55      1000\n",
            "\n",
            "    accuracy                           0.48     10000\n",
            "   macro avg       0.51      0.48      0.48     10000\n",
            "weighted avg       0.51      0.48      0.48     10000\n",
            "\n"
          ]
        }
      ],
      "source": [
        "from sklearn.metrics import confusion_matrix , classification_report\n",
        "import numpy as np\n",
        "y_pred = ann.predict(X_test)\n",
        "y_pred_classes = [np.argmax(element) for element in y_pred]\n",
        "\n",
        "print(\"Classification Report for ANN: \\n\", classification_report(y_test, y_pred_classes))"
      ]
    },
    {
      "cell_type": "markdown",
      "source": [
        "**CNN (Convolutional Neural Network)**\n",
        "\n",
        "Now, lets bulid a CNN using the ANN we created before."
      ],
      "metadata": {
        "id": "1oe0EGnx5Grq"
      }
    },
    {
      "cell_type": "code",
      "source": [
        "cnn = models.Sequential([\n",
        "    layers.Conv2D(filters=32, kernel_size=(3, 3), activation='relu', input_shape=(32, 32, 3)),\n",
        "    layers.MaxPooling2D((2, 2)),\n",
        "\n",
        "    layers.Conv2D(filters=64, kernel_size=(3, 3), activation='relu'),\n",
        "    layers.MaxPooling2D((2, 2)),\n",
        "\n",
        "    layers.Flatten(),\n",
        "    layers.Dense(64, activation='relu'),\n",
        "    layers.Dense(10, activation='softmax')\n",
        "])"
      ],
      "metadata": {
        "id": "ui0CRgvS5Pjs"
      },
      "execution_count": 84,
      "outputs": []
    },
    {
      "cell_type": "markdown",
      "source": [
        "**Convolutional Layers (Conv2D)**:\n",
        "\n",
        "`layers.Conv2D(filters=32, kernel_size=(3, 3), activation='relu', input_shape=(32, 32, 3))`:\n",
        "\n",
        "This is the first convolutional layer with 32 filters (output channels), each using a 3x3 kernel.\n",
        "\n",
        "The activation function is ReLU (Rectified Linear Unit), introducing non-linearity.\n",
        "\n",
        "`input_shape=(32, 32, 3)` specifies the shape of the input data (32x32 images with 3 color channels).\n",
        "\n",
        "`layers.Conv2D(filters=64, kernel_size=(3, 3), activation='relu'):`\n",
        "\n",
        "This is the second convolutional layer with 64 filters and a 3x3 kernel.\n",
        "Again, ReLU is used as the activation function."
      ],
      "metadata": {
        "id": "thdv5-pR6Ia-"
      }
    },
    {
      "cell_type": "markdown",
      "source": [
        "**Max Pooling Layers (MaxPooling2D)**:\n",
        "\n",
        "`layers.MaxPooling2D((2, 2))`:\n",
        "Max pooling is applied after each convolutional layer to reduce spatial dimensions.\n",
        "The (2, 2) parameter specifies a 2x2 pooling window."
      ],
      "metadata": {
        "id": "ec86UiaV6Uma"
      }
    },
    {
      "cell_type": "markdown",
      "source": [
        "`layers.Dense(10, activation='softmax')`:\n",
        "\n",
        "The final dense layer with 10 neurons, representing the output classes in a multi-class classification task.\n",
        "Softmax activation is used to convert raw scores into probabilities, ensuring the output sums to 1."
      ],
      "metadata": {
        "id": "T5A5aAyI6cDx"
      }
    },
    {
      "cell_type": "code",
      "source": [
        "cnn.compile(optimizer='adam',\n",
        "              loss='sparse_categorical_crossentropy',\n",
        "              metrics=['accuracy'])"
      ],
      "metadata": {
        "id": "8mk14AsH6nbO"
      },
      "execution_count": 85,
      "outputs": []
    },
    {
      "cell_type": "code",
      "source": [
        "cnn.fit(X_train, y_train, epochs=10)"
      ],
      "metadata": {
        "colab": {
          "base_uri": "https://localhost:8080/"
        },
        "id": "JdCqPwri6tX6",
        "outputId": "1d97d0dc-a944-4fd7-be2b-8d92aa90a94d"
      },
      "execution_count": null,
      "outputs": [
        {
          "output_type": "stream",
          "name": "stdout",
          "text": [
            "Epoch 1/10\n",
            "1563/1563 [==============================] - 80s 50ms/step - loss: 1.4794 - accuracy: 0.4659\n",
            "Epoch 2/10\n",
            "1563/1563 [==============================] - 72s 46ms/step - loss: 1.1087 - accuracy: 0.6102\n",
            "Epoch 3/10\n",
            "1563/1563 [==============================] - 89s 57ms/step - loss: 0.9826 - accuracy: 0.6566\n",
            "Epoch 4/10\n",
            "1563/1563 [==============================] - 72s 46ms/step - loss: 0.9006 - accuracy: 0.6868\n",
            "Epoch 5/10\n",
            "1563/1563 [==============================] - 71s 46ms/step - loss: 0.8355 - accuracy: 0.7100\n",
            "Epoch 6/10\n",
            "1563/1563 [==============================] - 71s 46ms/step - loss: 0.7767 - accuracy: 0.7313\n",
            "Epoch 7/10\n",
            "1563/1563 [==============================] - 70s 45ms/step - loss: 0.7305 - accuracy: 0.7455\n",
            "Epoch 8/10\n",
            "1563/1563 [==============================] - 70s 45ms/step - loss: 0.6884 - accuracy: 0.7609\n",
            "Epoch 9/10\n",
            "1563/1563 [==============================] - 69s 44ms/step - loss: 0.6489 - accuracy: 0.7753\n",
            "Epoch 10/10\n",
            "1138/1563 [====================>.........] - ETA: 19s - loss: 0.6073 - accuracy: 0.7860"
          ]
        }
      ]
    },
    {
      "cell_type": "markdown",
      "source": [
        "**With CNN, at the end 5 epochs, accuracy was at around 70% which is a significant improvement over ANN. CNN's are best for image classification and gives superb accuracy. Also computation is much less compared to simple ANN as maxpooling reduces the image dimensions while still preserving the features**"
      ],
      "metadata": {
        "id": "K1twrXLd6xB6"
      }
    },
    {
      "cell_type": "code",
      "source": [
        "cnn.evaluate(X_test,y_test)"
      ],
      "metadata": {
        "id": "UQFQjkj560IS"
      },
      "execution_count": null,
      "outputs": []
    },
    {
      "cell_type": "code",
      "source": [
        "y_pred = cnn.predict(X_test)\n",
        "y_pred[:5]"
      ],
      "metadata": {
        "id": "zW0Yb0ux62vb"
      },
      "execution_count": null,
      "outputs": []
    },
    {
      "cell_type": "code",
      "source": [
        "y_classes = [np.argmax(element) for element in y_pred]\n",
        "y_classes[:5]"
      ],
      "metadata": {
        "id": "Ayn5t2vg64dv"
      },
      "execution_count": null,
      "outputs": []
    },
    {
      "cell_type": "code",
      "source": [
        "y_test[:5]"
      ],
      "metadata": {
        "id": "yk7U7QHf66Ef"
      },
      "execution_count": null,
      "outputs": []
    },
    {
      "cell_type": "code",
      "source": [
        "plot_sample(X_test, y_test,3)"
      ],
      "metadata": {
        "id": "JJKFHB7j67W5"
      },
      "execution_count": null,
      "outputs": []
    },
    {
      "cell_type": "code",
      "source": [
        "print(\"Classification Report for CNN: \\n\", classification_report(y_test, y_classes))"
      ],
      "metadata": {
        "id": "IGjl9Gmr7BLL"
      },
      "execution_count": null,
      "outputs": []
    },
    {
      "cell_type": "markdown",
      "source": [
        "# MNIST datase\n",
        "Use CNN to do handwritten digits classification using MNIST dataset.\n",
        "[Link to Dataset](https://www.tensorflow.org/datasets/catalog/mnist)\n",
        "\n",
        "\n"
      ],
      "metadata": {
        "id": "QQI-j3JI7vVI"
      }
    },
    {
      "cell_type": "code",
      "source": [
        "(X_train, y_train) , (X_test, y_test) = keras.datasets.mnist.load_data()"
      ],
      "metadata": {
        "id": "mtWYIBmn8a9J"
      },
      "execution_count": null,
      "outputs": []
    },
    {
      "cell_type": "code",
      "source": [
        "len(X_train)"
      ],
      "metadata": {
        "id": "Lp5zBZ038dhh"
      },
      "execution_count": null,
      "outputs": []
    },
    {
      "cell_type": "code",
      "source": [
        "len(X_test)"
      ],
      "metadata": {
        "id": "9fDgxFyO8gws"
      },
      "execution_count": null,
      "outputs": []
    },
    {
      "cell_type": "code",
      "source": [
        "X_train[0].shape"
      ],
      "metadata": {
        "id": "MwqPBuBP8jHz"
      },
      "execution_count": null,
      "outputs": []
    },
    {
      "cell_type": "code",
      "source": [
        "X_train[0]"
      ],
      "metadata": {
        "id": "bCtBZghD8lMV"
      },
      "execution_count": null,
      "outputs": []
    },
    {
      "cell_type": "code",
      "source": [
        "plt.matshow(X_train[0])"
      ],
      "metadata": {
        "id": "kCi-tLuY8lZR"
      },
      "execution_count": null,
      "outputs": []
    }
  ],
  "metadata": {
    "colab": {
      "provenance": [],
      "authorship_tag": "ABX9TyN3xEewRhQRZhVBR8Zk96N9",
      "include_colab_link": true
    },
    "kernelspec": {
      "display_name": "Python 3",
      "name": "python3"
    },
    "language_info": {
      "name": "python"
    }
  },
  "nbformat": 4,
  "nbformat_minor": 0
}