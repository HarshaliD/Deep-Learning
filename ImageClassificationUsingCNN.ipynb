{
  "cells": [
    {
      "cell_type": "markdown",
      "metadata": {
        "id": "view-in-github",
        "colab_type": "text"
      },
      "source": [
        "<a href=\"https://colab.research.google.com/github/HarshaliD/Deep-Learning/blob/main/ImageClassificationUsingCNN.ipynb\" target=\"_parent\"><img src=\"https://colab.research.google.com/assets/colab-badge.svg\" alt=\"Open In Colab\"/></a>"
      ]
    },
    {
      "cell_type": "markdown",
      "source": [
        "# Image Classification Using CNN\n",
        "What is CNN?\n",
        "\n",
        "A **Convolutional Neural Network (CNN)** is a type of deep learning algorithm that is particularly well-suited for image recognition and processing tasks. It is made up of multiple layers, including convolutional layers, pooling layers, and fully connected layers."
      ],
      "metadata": {
        "id": "lbb5XKz-wRzR"
      }
    },
    {
      "cell_type": "markdown",
      "metadata": {
        "id": "siVg3kYAnOBT"
      },
      "source": [
        "In this notebook , 2 examples for application of CNN are showed.\n",
        "\n",
        "*First,*\n",
        "CNN is applied on **CIFAR10 Dataset.**\n",
        "*Second,*\n",
        "CNN is applied on **MNIST dataset**\n",
        "\n",
        "# CIFAR10 Dataset\n",
        "[Link to Dataset](https://www.cs.toronto.edu/~kriz/cifar.html])\n",
        "\n",
        "Dataset has following features:\n",
        "\n",
        "\n",
        "1.   It has 60000 32*32 color images in 10 classes.\n",
        "2.   \n",
        "50000 training images and 10000 testing images\n",
        "3.3 RGB Channel\n",
        "\n"
      ]
    },
    {
      "cell_type": "markdown",
      "source": [
        "**Matplotlib**: Matplotlib is a comprehensive library for creating static, animated, and interactive visualizations in Python. plt is a commonly used alias for the pyplot module, which provides a MATLAB-like interface for plotting.\n",
        "\n",
        "**TensorFlow**: TensorFlow is an open-source machine learning library developed by the Google Brain team. It provides a comprehensive set of tools for building and deploying machine learning models. TensorFlow supports both deep learning and traditional machine learning.\n",
        "\n",
        "**Keras**: Keras is a high-level neural networks API written in Python that runs on top of various lower-level deep learning libraries, including TensorFlow. TensorFlow 2.x integrates Keras as its official high-level API.\n",
        "\n",
        "**Datasets**: The datasets module in Keras provides a collection of commonly used datasets for training and testing machine learning models. This includes datasets like MNIST, CIFAR-10, and more.\n",
        "\n",
        "**Layers**: The layers module in Keras includes a variety of pre-built layers that you can use to construct your neural network architectures. This includes dense layers, convolutional layers, recurrent layers, etc.\n",
        "\n",
        "**Models**: The models module in Keras provides a way to define and compile neural network models. It includes functions to create common architectures like Sequential models and more complex functional API-based models.\n",
        "\n",
        "**NumPy**: NumPy is a fundamental package for scientific computing in Python. It provides support for large, multi-dimensional arrays and matrices, along with a collection of mathematical functions to operate on these elements. NumPy is often used for data manipulation and preprocessing in machine learning."
      ],
      "metadata": {
        "id": "LJu0lDeIwQ6p"
      }
    },
    {
      "cell_type": "code",
      "execution_count": 3,
      "metadata": {
        "id": "a2_0iS8QnBJl"
      },
      "outputs": [],
      "source": [
        "import matplotlib.pyplot as plt\n",
        "import tensorflow as tf\n",
        "from tensorflow.keras import datasets,layers,models\n",
        "import numpy as np\n"
      ]
    },
    {
      "cell_type": "markdown",
      "source": [
        "Splitting a dataset into training and testing sets.\n",
        "\n",
        "**X_train** typically represents the features or input data used for training a machine learning model.\n",
        "\n",
        "**y_train** represents the corresponding labels or target values associated with the training data.\n",
        "\n",
        "**X_test** represents the features or input data for testing the model.\n",
        "\n",
        "**y_test** represents the corresponding labels or target values associated with the testing data.\n"
      ],
      "metadata": {
        "id": "_OFYM644ygD4"
      }
    },
    {
      "cell_type": "code",
      "execution_count": 5,
      "metadata": {
        "colab": {
          "base_uri": "https://localhost:8080/"
        },
        "id": "IQ3PxpaJn_ai",
        "outputId": "ce4688cd-569f-434d-d678-4c33ff3501e8"
      },
      "outputs": [
        {
          "output_type": "stream",
          "name": "stdout",
          "text": [
            "Downloading data from https://www.cs.toronto.edu/~kriz/cifar-10-python.tar.gz\n",
            "170498071/170498071 [==============================] - 2s 0us/step\n"
          ]
        },
        {
          "output_type": "execute_result",
          "data": {
            "text/plain": [
              "(50000, 32, 32, 3)"
            ]
          },
          "metadata": {},
          "execution_count": 5
        }
      ],
      "source": [
        "(X_train,y_train),(X_test,y_test)= datasets.cifar10.load_data()\n",
        "X_train.shape"
      ]
    },
    {
      "cell_type": "code",
      "execution_count": 6,
      "metadata": {
        "colab": {
          "base_uri": "https://localhost:8080/"
        },
        "id": "gMvRAgMiocnf",
        "outputId": "aec2b6b9-8224-400e-c3ed-4433b963a5a5"
      },
      "outputs": [
        {
          "output_type": "execute_result",
          "data": {
            "text/plain": [
              "(10000, 32, 32, 3)"
            ]
          },
          "metadata": {},
          "execution_count": 6
        }
      ],
      "source": [
        "X_test.shape"
      ]
    },
    {
      "cell_type": "code",
      "execution_count": 7,
      "metadata": {
        "colab": {
          "base_uri": "https://localhost:8080/"
        },
        "id": "W1Dytz3VooJj",
        "outputId": "c85dd651-81a0-44ab-c3ea-8349dee627f0"
      },
      "outputs": [
        {
          "output_type": "execute_result",
          "data": {
            "text/plain": [
              "array([[[ 59,  62,  63],\n",
              "        [ 43,  46,  45],\n",
              "        [ 50,  48,  43],\n",
              "        ...,\n",
              "        [158, 132, 108],\n",
              "        [152, 125, 102],\n",
              "        [148, 124, 103]],\n",
              "\n",
              "       [[ 16,  20,  20],\n",
              "        [  0,   0,   0],\n",
              "        [ 18,   8,   0],\n",
              "        ...,\n",
              "        [123,  88,  55],\n",
              "        [119,  83,  50],\n",
              "        [122,  87,  57]],\n",
              "\n",
              "       [[ 25,  24,  21],\n",
              "        [ 16,   7,   0],\n",
              "        [ 49,  27,   8],\n",
              "        ...,\n",
              "        [118,  84,  50],\n",
              "        [120,  84,  50],\n",
              "        [109,  73,  42]],\n",
              "\n",
              "       ...,\n",
              "\n",
              "       [[208, 170,  96],\n",
              "        [201, 153,  34],\n",
              "        [198, 161,  26],\n",
              "        ...,\n",
              "        [160, 133,  70],\n",
              "        [ 56,  31,   7],\n",
              "        [ 53,  34,  20]],\n",
              "\n",
              "       [[180, 139,  96],\n",
              "        [173, 123,  42],\n",
              "        [186, 144,  30],\n",
              "        ...,\n",
              "        [184, 148,  94],\n",
              "        [ 97,  62,  34],\n",
              "        [ 83,  53,  34]],\n",
              "\n",
              "       [[177, 144, 116],\n",
              "        [168, 129,  94],\n",
              "        [179, 142,  87],\n",
              "        ...,\n",
              "        [216, 184, 140],\n",
              "        [151, 118,  84],\n",
              "        [123,  92,  72]]], dtype=uint8)"
            ]
          },
          "metadata": {},
          "execution_count": 7
        }
      ],
      "source": [
        "X_train[0]        #3d array"
      ]
    },
    {
      "cell_type": "code",
      "execution_count": 8,
      "metadata": {
        "colab": {
          "base_uri": "https://localhost:8080/"
        },
        "id": "ZN7wYpP_aG-P",
        "outputId": "3269060d-bb73-4522-ebd6-569520444ff4"
      },
      "outputs": [
        {
          "output_type": "execute_result",
          "data": {
            "text/plain": [
              "array([[6],\n",
              "       [9],\n",
              "       [9],\n",
              "       [4],\n",
              "       [1]], dtype=uint8)"
            ]
          },
          "metadata": {},
          "execution_count": 8
        }
      ],
      "source": [
        "y_train[:5]  #2d"
      ]
    },
    {
      "cell_type": "code",
      "execution_count": 9,
      "metadata": {
        "colab": {
          "base_uri": "https://localhost:8080/"
        },
        "id": "mqqFh7_4aLBl",
        "outputId": "12349a49-9820-4918-c473-f0cc4d9f39ad"
      },
      "outputs": [
        {
          "output_type": "execute_result",
          "data": {
            "text/plain": [
              "array([6, 9, 9, 4, 1], dtype=uint8)"
            ]
          },
          "metadata": {},
          "execution_count": 9
        }
      ],
      "source": [
        "y_train = y_train.reshape(-1,)        #reshape can be used for flattening\n",
        "y_train[:5]                           #1d"
      ]
    },
    {
      "cell_type": "code",
      "execution_count": 10,
      "metadata": {
        "id": "9nFdVwbCZmdB"
      },
      "outputs": [],
      "source": [
        "classes= ['airplane','automobile','bird','cat','deer','dog','frog','horse','ship','truck']"
      ]
    },
    {
      "cell_type": "code",
      "execution_count": 11,
      "metadata": {
        "colab": {
          "base_uri": "https://localhost:8080/",
          "height": 36
        },
        "id": "gmfqxvb5aYqZ",
        "outputId": "8eeb36c8-1b13-4347-dfb5-6aa7f0c36929"
      },
      "outputs": [
        {
          "output_type": "execute_result",
          "data": {
            "text/plain": [
              "'frog'"
            ],
            "application/vnd.google.colaboratory.intrinsic+json": {
              "type": "string"
            }
          },
          "metadata": {},
          "execution_count": 11
        }
      ],
      "source": [
        "classes[6]"
      ]
    },
    {
      "cell_type": "code",
      "execution_count": 12,
      "metadata": {
        "id": "R4OEouiToqH6"
      },
      "outputs": [],
      "source": [
        "def plot_sample(X,y,index):\n",
        "  plt.figure(figsize=(15,2))\n",
        "  plt.imshow(X[index])\n",
        "  plt.xlabel(classes[y[index]])"
      ]
    },
    {
      "cell_type": "code",
      "execution_count": 13,
      "metadata": {
        "colab": {
          "base_uri": "https://localhost:8080/",
          "height": 237
        },
        "id": "-ce0-dDtZb-o",
        "outputId": "85eae67a-fedf-493e-ce3c-7ef2e3431e5e"
      },
      "outputs": [
        {
          "output_type": "display_data",
          "data": {
            "text/plain": [
              "<Figure size 1500x200 with 1 Axes>"
            ],
            "image/png": "[encoded data removed]"
          },
          "metadata": {}
        }
      ],
      "source": [
        "plot_sample(X_train,y_train,0)"
      ]
    },
    {
      "cell_type": "code",
      "execution_count": 14,
      "metadata": {
        "colab": {
          "base_uri": "https://localhost:8080/",
          "height": 237
        },
        "id": "-m5hs7DPagGY",
        "outputId": "c4aaff0d-dfef-4f58-8225-2d54445a752d"
      },
      "outputs": [
        {
          "output_type": "display_data",
          "data": {
            "text/plain": [
              "<Figure size 1500x200 with 1 Axes>"
            ],
            "image/png": "[encoded data removed]"
          },
          "metadata": {}
        }
      ],
      "source": [
        "plot_sample(X_train,y_train,1)"
      ]
    },
    {
      "cell_type": "markdown",
      "source": [
        "**Normalization**\n",
        "\n",
        "Normalization is a data preprocessing technique used to adjust the values of features in a dataset to a common scale.\n",
        "\n",
        "Normalize the images to a number from 0 to 1. Image has 3 channels (R,G,B) and each value in the channel can range from 0 to 255. Hence to normalize in 0-->1 range, we need to divide it by 255"
      ],
      "metadata": {
        "id": "SfJRTKok1QdD"
      }
    },
    {
      "cell_type": "code",
      "execution_count": 15,
      "metadata": {
        "id": "YlfimHaLa3Pu"
      },
      "outputs": [],
      "source": [
        "#normalization i.e 0-1 range\n",
        "\n",
        "X_train=X_train/255\n",
        "X_test=X_test/255"
      ]
    },
    {
      "cell_type": "code",
      "source": [],
      "metadata": {
        "id": "vGFdngZX46uF"
      },
      "execution_count": 15,
      "outputs": []
    },
    {
      "cell_type": "markdown",
      "source": [
        "**ANN (Artificial Neural Network)**\n",
        "\n",
        "ANNs typically have an input layer, one or more hidden layers, and an output layer. Information flows from the input layer through the hidden layers to produce an output.\n",
        "\n",
        "Weights and Activation Functions: Each connection between nodes has a weight, and each node applies an activation function to the weighted sum of its inputs. This introduces non-linearity, enabling the network to learn complex patterns.\n",
        "\n",
        "Learning: ANNs learn from data by adjusting the weights during a training process. This involves using a loss function to measure the difference between predicted and actual outputs and optimizing the weights to minimize this difference.\n",
        "\n",
        "First, let's build a ANN.Later, we can see the difference of performane of ANN and CNN."
      ],
      "metadata": {
        "id": "h6kFsWDi1dtm"
      }
    },
    {
      "cell_type": "code",
      "execution_count": 16,
      "metadata": {
        "colab": {
          "base_uri": "https://localhost:8080/"
        },
        "id": "w0AV5kuKbHuM",
        "outputId": "c2a33660-50dd-4952-d3c3-1c6ea9cf5c28"
      },
      "outputs": [
        {
          "output_type": "stream",
          "name": "stdout",
          "text": [
            "Epoch 1/5\n",
            "1563/1563 [==============================] - 146s 93ms/step - loss: 1.8146 - accuracy: 0.3536\n",
            "Epoch 2/5\n",
            "1563/1563 [==============================] - 184s 118ms/step - loss: 1.6291 - accuracy: 0.4268\n",
            "Epoch 3/5\n",
            "1563/1563 [==============================] - 176s 113ms/step - loss: 1.5448 - accuracy: 0.4554\n",
            "Epoch 4/5\n",
            "1563/1563 [==============================] - 164s 105ms/step - loss: 1.4856 - accuracy: 0.4770\n",
            "Epoch 5/5\n",
            "1563/1563 [==============================] - 163s 105ms/step - loss: 1.4356 - accuracy: 0.4935\n"
          ]
        },
        {
          "output_type": "execute_result",
          "data": {
            "text/plain": [
              "<keras.src.callbacks.History at 0x7f8160131390>"
            ]
          },
          "metadata": {},
          "execution_count": 16
        }
      ],
      "source": [
        "#ANN\n",
        "ann = models.Sequential([\n",
        "    layers.Flatten(input_shape=(32,32,3)),\n",
        "    layers.Dense(3000,activation='relu'),\n",
        "    layers.Dense(1000,activation='relu'),\n",
        "    layers.Dense(10,activation='sigmoid')\n",
        "])\n",
        "\n",
        "ann.compile(optimizer='SGD',loss='sparse_categorical_crossentropy',metrics=['accuracy'])\n",
        "\n",
        "ann.fit(X_train,y_train,epochs=5)"
      ]
    },
    {
      "cell_type": "markdown",
      "source": [
        "**models.Sequential**: This creates a sequential neural network model, which is a linear stack of layers.\n",
        "\n",
        "**layers.Flatten**: This layer is used to flatten the input. In this case, it's used as the input layer to flatten the 32x32x3 image data to a 1D array.\n",
        "\n",
        "**layers.Dense**: These are fully connected layers, where each neuron is connected to every neuron in the previous layer.\n",
        "\n",
        "**ReLU (Rectified Linear Unit)**:\n",
        "\n",
        "Function: ReLU is an activation function commonly used in neural networks.It returns the input for positive values and zero for negative values. It introduces non-linearity and helps networks learn complex patterns.\n",
        "\n",
        "Mathematical Definition:\n",
        "f(x)=max(0,x)\n",
        "\n",
        "**Sigmoid:**\n",
        "\n",
        "Function: Sigmoid is another activation function used in neural networks.It squashes input values between 0 and 1, making it suitable for binary classification problems. It's often used in the output layer for binary classification tasks, providing probabilities that sum to 1.\n",
        "\n",
        "Mathematical Definition:\n",
        "f(x)=\n",
        "1/(1+e**(−x))\n",
        "\n",
        "**ann.compile**: Configures the model for training.\n",
        "\n",
        "**optimizer='SGD'**: Stochastic Gradient Descent is used as the optimizer for updating the model's weights during training.\n",
        "\n",
        "**loss='sparse_categorical_crossentropy':**This is the loss function used for training the model. It is commonly used for multi-class classification tasks.\n",
        "\n",
        "**metrics=['accuracy']**: Monitors the accuracy during training.\n",
        "\n",
        "**epochs=5**: Specifies the number of times the model should iterate over the entire training dataset during training."
      ],
      "metadata": {
        "id": "Jgbbil_-1_AO"
      }
    },
    {
      "cell_type": "markdown",
      "source": [
        "**You can see that at the end of 5 epochs, accuracy is at around 49%**"
      ],
      "metadata": {
        "id": "RbW4UN7a49u1"
      }
    },
    {
      "cell_type": "code",
      "execution_count": 17,
      "metadata": {
        "id": "88_8eQgccJP4",
        "colab": {
          "base_uri": "https://localhost:8080/"
        },
        "outputId": "c44f2ff6-4be3-45e5-86ac-66a40104ead5"
      },
      "outputs": [
        {
          "output_type": "stream",
          "name": "stdout",
          "text": [
            "313/313 [==============================] - 10s 31ms/step\n",
            "Classification Report for ANN: \n",
            "               precision    recall  f1-score   support\n",
            "\n",
            "           0       0.54      0.55      0.55      1000\n",
            "           1       0.57      0.65      0.61      1000\n",
            "           2       0.35      0.32      0.33      1000\n",
            "           3       0.39      0.28      0.33      1000\n",
            "           4       0.32      0.59      0.42      1000\n",
            "           5       0.48      0.30      0.37      1000\n",
            "           6       0.54      0.49      0.51      1000\n",
            "           7       0.63      0.45      0.53      1000\n",
            "           8       0.69      0.50      0.58      1000\n",
            "           9       0.46      0.65      0.54      1000\n",
            "\n",
            "    accuracy                           0.48     10000\n",
            "   macro avg       0.50      0.48      0.48     10000\n",
            "weighted avg       0.50      0.48      0.48     10000\n",
            "\n"
          ]
        }
      ],
      "source": [
        "from sklearn.metrics import confusion_matrix , classification_report\n",
        "import numpy as np\n",
        "y_pred = ann.predict(X_test)\n",
        "y_pred_classes = [np.argmax(element) for element in y_pred]\n",
        "\n",
        "print(\"Classification Report for ANN: \\n\", classification_report(y_test, y_pred_classes))"
      ]
    },
    {
      "cell_type": "markdown",
      "source": [
        "**CNN (Convolutional Neural Network)**\n",
        "\n",
        "Now, lets bulid a CNN using the ANN we created before."
      ],
      "metadata": {
        "id": "1oe0EGnx5Grq"
      }
    },
    {
      "cell_type": "code",
      "source": [
        "cnn = models.Sequential([\n",
        "    layers.Conv2D(filters=32, kernel_size=(3, 3), activation='relu', input_shape=(32, 32, 3)),\n",
        "    layers.MaxPooling2D((2, 2)),\n",
        "\n",
        "    layers.Conv2D(filters=64, kernel_size=(3, 3), activation='relu'),\n",
        "    layers.MaxPooling2D((2, 2)),\n",
        "\n",
        "    layers.Flatten(),\n",
        "    layers.Dense(64, activation='relu'),\n",
        "    layers.Dense(10, activation='softmax')\n",
        "])"
      ],
      "metadata": {
        "id": "ui0CRgvS5Pjs"
      },
      "execution_count": 18,
      "outputs": []
    },
    {
      "cell_type": "markdown",
      "source": [
        "**Convolutional Layers (Conv2D)**:\n",
        "\n",
        "`layers.Conv2D(filters=32, kernel_size=(3, 3), activation='relu', input_shape=(32, 32, 3))`:\n",
        "\n",
        "This is the first convolutional layer with 32 filters (output channels), each using a 3x3 kernel.A 3x3 kernel refers to a convolutional filter with a size of 3 pixels by 3 pixels.\n",
        "\n",
        "The activation function is ReLU (Rectified Linear Unit), introducing non-linearity.\n",
        "\n",
        "`input_shape=(32, 32, 3)` specifies the shape of the input data (32x32 images with 3 color channels).\n",
        "\n",
        "`layers.Conv2D(filters=64, kernel_size=(3, 3), activation='relu'):`\n",
        "\n",
        "This is the second convolutional layer with 64 filters and a 3x3 kernel.\n",
        "Again, ReLU is used as the activation function."
      ],
      "metadata": {
        "id": "thdv5-pR6Ia-"
      }
    },
    {
      "cell_type": "markdown",
      "source": [
        "**Max Pooling Layers (MaxPooling2D)**:\n",
        "\n",
        "`layers.MaxPooling2D((2, 2))`:\n",
        "Max pooling is applied after each convolutional layer to reduce spatial dimensions.\n",
        "The (2, 2) parameter specifies a 2x2 pooling window."
      ],
      "metadata": {
        "id": "ec86UiaV6Uma"
      }
    },
    {
      "cell_type": "markdown",
      "source": [
        "`layers.Dense(10, activation='softmax')`:\n",
        "\n",
        "The final dense layer with 10 neurons, representing the output classes in a multi-class classification task.\n",
        "Softmax activation is used to convert raw scores into probabilities, ensuring the output sums to 1."
      ],
      "metadata": {
        "id": "T5A5aAyI6cDx"
      }
    },
    {
      "cell_type": "code",
      "source": [
        "cnn.compile(optimizer='adam',\n",
        "              loss='sparse_categorical_crossentropy',\n",
        "              metrics=['accuracy'])"
      ],
      "metadata": {
        "id": "8mk14AsH6nbO"
      },
      "execution_count": 19,
      "outputs": []
    },
    {
      "cell_type": "code",
      "source": [
        "cnn.fit(X_train, y_train, epochs=10)"
      ],
      "metadata": {
        "colab": {
          "base_uri": "https://localhost:8080/"
        },
        "id": "JdCqPwri6tX6",
        "outputId": "e57bae8e-dc3c-471b-b324-29be2b992bf4"
      },
      "execution_count": 20,
      "outputs": [
        {
          "output_type": "stream",
          "name": "stdout",
          "text": [
            "Epoch 1/10\n",
            "1563/1563 [==============================] - 74s 47ms/step - loss: 1.4475 - accuracy: 0.4809\n",
            "Epoch 2/10\n",
            "1563/1563 [==============================] - 84s 53ms/step - loss: 1.0852 - accuracy: 0.6212\n",
            "Epoch 3/10\n",
            "1563/1563 [==============================] - 66s 42ms/step - loss: 0.9550 - accuracy: 0.6665\n",
            "Epoch 4/10\n",
            "1563/1563 [==============================] - 64s 41ms/step - loss: 0.8669 - accuracy: 0.6990\n",
            "Epoch 5/10\n",
            "1563/1563 [==============================] - 68s 44ms/step - loss: 0.7969 - accuracy: 0.7240\n",
            "Epoch 6/10\n",
            "1563/1563 [==============================] - 62s 40ms/step - loss: 0.7353 - accuracy: 0.7441\n",
            "Epoch 7/10\n",
            "1563/1563 [==============================] - 62s 40ms/step - loss: 0.6873 - accuracy: 0.7598\n",
            "Epoch 8/10\n",
            "1563/1563 [==============================] - 63s 41ms/step - loss: 0.6411 - accuracy: 0.7768\n",
            "Epoch 9/10\n",
            "1563/1563 [==============================] - 62s 40ms/step - loss: 0.5989 - accuracy: 0.7897\n",
            "Epoch 10/10\n",
            "1563/1563 [==============================] - 63s 41ms/step - loss: 0.5568 - accuracy: 0.8052\n"
          ]
        },
        {
          "output_type": "execute_result",
          "data": {
            "text/plain": [
              "<keras.src.callbacks.History at 0x7f8158faa7d0>"
            ]
          },
          "metadata": {},
          "execution_count": 20
        }
      ]
    },
    {
      "cell_type": "markdown",
      "source": [
        "**With CNN, at the end 5 epochs, accuracy was at around 70% which is a significant improvement over ANN. CNN's are best for image classification and gives superb accuracy. Also computation is much less compared to simple ANN as maxpooling reduces the image dimensions while still preserving the features**"
      ],
      "metadata": {
        "id": "K1twrXLd6xB6"
      }
    },
    {
      "cell_type": "code",
      "source": [
        "cnn.evaluate(X_test,y_test)"
      ],
      "metadata": {
        "colab": {
          "base_uri": "https://localhost:8080/"
        },
        "id": "UQFQjkj560IS",
        "outputId": "b843bc80-798a-4c43-ec4a-815824592c16"
      },
      "execution_count": 21,
      "outputs": [
        {
          "output_type": "stream",
          "name": "stdout",
          "text": [
            "313/313 [==============================] - 4s 12ms/step - loss: 0.9064 - accuracy: 0.7088\n"
          ]
        },
        {
          "output_type": "execute_result",
          "data": {
            "text/plain": [
              "[0.9064202904701233, 0.7088000178337097]"
            ]
          },
          "metadata": {},
          "execution_count": 21
        }
      ]
    },
    {
      "cell_type": "code",
      "source": [
        "y_pred = cnn.predict(X_test)\n",
        "y_pred[:5]"
      ],
      "metadata": {
        "colab": {
          "base_uri": "https://localhost:8080/"
        },
        "id": "zW0Yb0ux62vb",
        "outputId": "352c00d0-07c2-46bb-ee39-2d76954116e0"
      },
      "execution_count": 22,
      "outputs": [
        {
          "output_type": "stream",
          "name": "stdout",
          "text": [
            "313/313 [==============================] - 6s 18ms/step\n"
          ]
        },
        {
          "output_type": "execute_result",
          "data": {
            "text/plain": [
              "array([[1.9549205e-05, 2.6458965e-06, 1.9035646e-04, 8.8395584e-01,\n",
              "        7.0050402e-05, 1.1539908e-01, 2.7448474e-04, 5.4893182e-05,\n",
              "        3.2429256e-05, 5.1481231e-07],\n",
              "       [4.1183704e-03, 1.5914467e-01, 4.4626809e-08, 1.7244001e-06,\n",
              "        5.8585808e-08, 1.3021676e-07, 1.3614822e-08, 3.6961640e-09,\n",
              "        8.3631849e-01, 4.1652122e-04],\n",
              "       [1.8044288e-01, 1.8403909e-01, 5.8211433e-04, 6.6600274e-03,\n",
              "        5.9702067e-04, 1.3909617e-03, 2.4645170e-04, 1.1268541e-03,\n",
              "        6.1154681e-01, 1.3367754e-02],\n",
              "       [8.5212535e-01, 1.2398274e-02, 6.8064849e-03, 1.6322654e-03,\n",
              "        1.0080483e-03, 1.6022546e-04, 1.5175013e-05, 5.7509518e-05,\n",
              "        1.2578465e-01, 1.1885904e-05],\n",
              "       [8.1452534e-09, 2.3066480e-06, 6.6763004e-03, 7.9625333e-04,\n",
              "        4.2444414e-01, 3.8788065e-05, 5.6802237e-01, 3.1744162e-06,\n",
              "        1.6615993e-05, 1.2491378e-07]], dtype=float32)"
            ]
          },
          "metadata": {},
          "execution_count": 22
        }
      ]
    },
    {
      "cell_type": "code",
      "source": [
        "y_classes = [np.argmax(element) for element in y_pred]\n",
        "y_classes[:5]\n"
      ],
      "metadata": {
        "colab": {
          "base_uri": "https://localhost:8080/"
        },
        "id": "Ayn5t2vg64dv",
        "outputId": "04f1c970-1bfd-4fda-d81f-fff47071cdbf"
      },
      "execution_count": 23,
      "outputs": [
        {
          "output_type": "execute_result",
          "data": {
            "text/plain": [
              "[3, 8, 8, 0, 6]"
            ]
          },
          "metadata": {},
          "execution_count": 23
        }
      ]
    },
    {
      "cell_type": "code",
      "source": [
        "y_test[:5]\n"
      ],
      "metadata": {
        "colab": {
          "base_uri": "https://localhost:8080/"
        },
        "id": "yk7U7QHf66Ef",
        "outputId": "cf512b5f-8690-43dc-d807-de3beb4a9d45"
      },
      "execution_count": 24,
      "outputs": [
        {
          "output_type": "execute_result",
          "data": {
            "text/plain": [
              "array([[3],\n",
              "       [8],\n",
              "       [8],\n",
              "       [0],\n",
              "       [6]], dtype=uint8)"
            ]
          },
          "metadata": {},
          "execution_count": 24
        }
      ]
    },
    {
      "cell_type": "code",
      "source": [
        "y_test = y_test.reshape(-1,)\n",
        "plot_sample(X_test, y_test,3)"
      ],
      "metadata": {
        "colab": {
          "base_uri": "https://localhost:8080/",
          "height": 237
        },
        "id": "9tWIWiAj_aMV",
        "outputId": "930ceebb-d2a4-4910-b518-37b081099be0"
      },
      "execution_count": 25,
      "outputs": [
        {
          "output_type": "display_data",
          "data": {
            "text/plain": [
              "<Figure size 1500x200 with 1 Axes>"
            ],
            "image/png": "[encoded data removed]"
          },
          "metadata": {}
        }
      ]
    },
    {
      "cell_type": "code",
      "source": [
        "print(\"Classification Report for CNN: \\n\", classification_report(y_test, y_classes))"
      ],
      "metadata": {
        "colab": {
          "base_uri": "https://localhost:8080/"
        },
        "id": "IGjl9Gmr7BLL",
        "outputId": "be26336c-ba96-4fd4-cc0b-527672896ba8"
      },
      "execution_count": 26,
      "outputs": [
        {
          "output_type": "stream",
          "name": "stdout",
          "text": [
            "Classification Report for CNN: \n",
            "               precision    recall  f1-score   support\n",
            "\n",
            "           0       0.79      0.69      0.74      1000\n",
            "           1       0.79      0.86      0.82      1000\n",
            "           2       0.64      0.58      0.61      1000\n",
            "           3       0.51      0.51      0.51      1000\n",
            "           4       0.68      0.65      0.67      1000\n",
            "           5       0.56      0.68      0.61      1000\n",
            "           6       0.77      0.80      0.79      1000\n",
            "           7       0.75      0.77      0.76      1000\n",
            "           8       0.84      0.77      0.80      1000\n",
            "           9       0.80      0.78      0.79      1000\n",
            "\n",
            "    accuracy                           0.71     10000\n",
            "   macro avg       0.71      0.71      0.71     10000\n",
            "weighted avg       0.71      0.71      0.71     10000\n",
            "\n"
          ]
        }
      ]
    },
    {
      "cell_type": "markdown",
      "source": [
        "# MNIST datase\n",
        "Use CNN to do handwritten digits classification using MNIST dataset.\n",
        "[Link to Dataset](https://www.tensorflow.org/datasets/catalog/mnist)\n",
        "\n",
        "\n"
      ],
      "metadata": {
        "id": "QQI-j3JI7vVI"
      }
    },
    {
      "cell_type": "code",
      "source": [
        "(X_train, y_train) , (X_test, y_test) = datasets.mnist.load_data()"
      ],
      "metadata": {
        "id": "mtWYIBmn8a9J",
        "colab": {
          "base_uri": "https://localhost:8080/"
        },
        "outputId": "c5fa32d0-34e0-442c-95b2-3bc06bcace67"
      },
      "execution_count": 28,
      "outputs": [
        {
          "output_type": "stream",
          "name": "stdout",
          "text": [
            "Downloading data from https://storage.googleapis.com/tensorflow/tf-keras-datasets/mnist.npz\n",
            "11490434/11490434 [==============================] - 0s 0us/step\n"
          ]
        }
      ]
    },
    {
      "cell_type": "code",
      "source": [
        "len(X_train)"
      ],
      "metadata": {
        "id": "Lp5zBZ038dhh",
        "colab": {
          "base_uri": "https://localhost:8080/"
        },
        "outputId": "821189e9-8136-4e04-bc0c-e4c1c026afb2"
      },
      "execution_count": 29,
      "outputs": [
        {
          "output_type": "execute_result",
          "data": {
            "text/plain": [
              "60000"
            ]
          },
          "metadata": {},
          "execution_count": 29
        }
      ]
    },
    {
      "cell_type": "code",
      "source": [
        "len(X_test)"
      ],
      "metadata": {
        "id": "9fDgxFyO8gws",
        "colab": {
          "base_uri": "https://localhost:8080/"
        },
        "outputId": "fbb58b53-177a-4599-821b-d62c56ef8e16"
      },
      "execution_count": 30,
      "outputs": [
        {
          "output_type": "execute_result",
          "data": {
            "text/plain": [
              "10000"
            ]
          },
          "metadata": {},
          "execution_count": 30
        }
      ]
    },
    {
      "cell_type": "code",
      "source": [
        "X_train[0].shape"
      ],
      "metadata": {
        "id": "MwqPBuBP8jHz",
        "colab": {
          "base_uri": "https://localhost:8080/"
        },
        "outputId": "a84e438a-be28-4add-e8d4-bef882a6d906"
      },
      "execution_count": 31,
      "outputs": [
        {
          "output_type": "execute_result",
          "data": {
            "text/plain": [
              "(28, 28)"
            ]
          },
          "metadata": {},
          "execution_count": 31
        }
      ]
    },
    {
      "cell_type": "code",
      "source": [
        "X_train[0]"
      ],
      "metadata": {
        "id": "bCtBZghD8lMV",
        "colab": {
          "base_uri": "https://localhost:8080/"
        },
        "outputId": "4f626563-202f-40cd-bf12-71ac66e01757"
      },
      "execution_count": 32,
      "outputs": [
        {
          "output_type": "execute_result",
          "data": {
            "text/plain": [
              "array([[  0,   0,   0,   0,   0,   0,   0,   0,   0,   0,   0,   0,   0,\n",
              "          0,   0,   0,   0,   0,   0,   0,   0,   0,   0,   0,   0,   0,\n",
              "          0,   0],\n",
              "       [  0,   0,   0,   0,   0,   0,   0,   0,   0,   0,   0,   0,   0,\n",
              "          0,   0,   0,   0,   0,   0,   0,   0,   0,   0,   0,   0,   0,\n",
              "          0,   0],\n",
              "       [  0,   0,   0,   0,   0,   0,   0,   0,   0,   0,   0,   0,   0,\n",
              "          0,   0,   0,   0,   0,   0,   0,   0,   0,   0,   0,   0,   0,\n",
              "          0,   0],\n",
              "       [  0,   0,   0,   0,   0,   0,   0,   0,   0,   0,   0,   0,   0,\n",
              "          0,   0,   0,   0,   0,   0,   0,   0,   0,   0,   0,   0,   0,\n",
              "          0,   0],\n",
              "       [  0,   0,   0,   0,   0,   0,   0,   0,   0,   0,   0,   0,   0,\n",
              "          0,   0,   0,   0,   0,   0,   0,   0,   0,   0,   0,   0,   0,\n",
              "          0,   0],\n",
              "       [  0,   0,   0,   0,   0,   0,   0,   0,   0,   0,   0,   0,   3,\n",
              "         18,  18,  18, 126, 136, 175,  26, 166, 255, 247, 127,   0,   0,\n",
              "          0,   0],\n",
              "       [  0,   0,   0,   0,   0,   0,   0,   0,  30,  36,  94, 154, 170,\n",
              "        253, 253, 253, 253, 253, 225, 172, 253, 242, 195,  64,   0,   0,\n",
              "          0,   0],\n",
              "       [  0,   0,   0,   0,   0,   0,   0,  49, 238, 253, 253, 253, 253,\n",
              "        253, 253, 253, 253, 251,  93,  82,  82,  56,  39,   0,   0,   0,\n",
              "          0,   0],\n",
              "       [  0,   0,   0,   0,   0,   0,   0,  18, 219, 253, 253, 253, 253,\n",
              "        253, 198, 182, 247, 241,   0,   0,   0,   0,   0,   0,   0,   0,\n",
              "          0,   0],\n",
              "       [  0,   0,   0,   0,   0,   0,   0,   0,  80, 156, 107, 253, 253,\n",
              "        205,  11,   0,  43, 154,   0,   0,   0,   0,   0,   0,   0,   0,\n",
              "          0,   0],\n",
              "       [  0,   0,   0,   0,   0,   0,   0,   0,   0,  14,   1, 154, 253,\n",
              "         90,   0,   0,   0,   0,   0,   0,   0,   0,   0,   0,   0,   0,\n",
              "          0,   0],\n",
              "       [  0,   0,   0,   0,   0,   0,   0,   0,   0,   0,   0, 139, 253,\n",
              "        190,   2,   0,   0,   0,   0,   0,   0,   0,   0,   0,   0,   0,\n",
              "          0,   0],\n",
              "       [  0,   0,   0,   0,   0,   0,   0,   0,   0,   0,   0,  11, 190,\n",
              "        253,  70,   0,   0,   0,   0,   0,   0,   0,   0,   0,   0,   0,\n",
              "          0,   0],\n",
              "       [  0,   0,   0,   0,   0,   0,   0,   0,   0,   0,   0,   0,  35,\n",
              "        241, 225, 160, 108,   1,   0,   0,   0,   0,   0,   0,   0,   0,\n",
              "          0,   0],\n",
              "       [  0,   0,   0,   0,   0,   0,   0,   0,   0,   0,   0,   0,   0,\n",
              "         81, 240, 253, 253, 119,  25,   0,   0,   0,   0,   0,   0,   0,\n",
              "          0,   0],\n",
              "       [  0,   0,   0,   0,   0,   0,   0,   0,   0,   0,   0,   0,   0,\n",
              "          0,  45, 186, 253, 253, 150,  27,   0,   0,   0,   0,   0,   0,\n",
              "          0,   0],\n",
              "       [  0,   0,   0,   0,   0,   0,   0,   0,   0,   0,   0,   0,   0,\n",
              "          0,   0,  16,  93, 252, 253, 187,   0,   0,   0,   0,   0,   0,\n",
              "          0,   0],\n",
              "       [  0,   0,   0,   0,   0,   0,   0,   0,   0,   0,   0,   0,   0,\n",
              "          0,   0,   0,   0, 249, 253, 249,  64,   0,   0,   0,   0,   0,\n",
              "          0,   0],\n",
              "       [  0,   0,   0,   0,   0,   0,   0,   0,   0,   0,   0,   0,   0,\n",
              "          0,  46, 130, 183, 253, 253, 207,   2,   0,   0,   0,   0,   0,\n",
              "          0,   0],\n",
              "       [  0,   0,   0,   0,   0,   0,   0,   0,   0,   0,   0,   0,  39,\n",
              "        148, 229, 253, 253, 253, 250, 182,   0,   0,   0,   0,   0,   0,\n",
              "          0,   0],\n",
              "       [  0,   0,   0,   0,   0,   0,   0,   0,   0,   0,  24, 114, 221,\n",
              "        253, 253, 253, 253, 201,  78,   0,   0,   0,   0,   0,   0,   0,\n",
              "          0,   0],\n",
              "       [  0,   0,   0,   0,   0,   0,   0,   0,  23,  66, 213, 253, 253,\n",
              "        253, 253, 198,  81,   2,   0,   0,   0,   0,   0,   0,   0,   0,\n",
              "          0,   0],\n",
              "       [  0,   0,   0,   0,   0,   0,  18, 171, 219, 253, 253, 253, 253,\n",
              "        195,  80,   9,   0,   0,   0,   0,   0,   0,   0,   0,   0,   0,\n",
              "          0,   0],\n",
              "       [  0,   0,   0,   0,  55, 172, 226, 253, 253, 253, 253, 244, 133,\n",
              "         11,   0,   0,   0,   0,   0,   0,   0,   0,   0,   0,   0,   0,\n",
              "          0,   0],\n",
              "       [  0,   0,   0,   0, 136, 253, 253, 253, 212, 135, 132,  16,   0,\n",
              "          0,   0,   0,   0,   0,   0,   0,   0,   0,   0,   0,   0,   0,\n",
              "          0,   0],\n",
              "       [  0,   0,   0,   0,   0,   0,   0,   0,   0,   0,   0,   0,   0,\n",
              "          0,   0,   0,   0,   0,   0,   0,   0,   0,   0,   0,   0,   0,\n",
              "          0,   0],\n",
              "       [  0,   0,   0,   0,   0,   0,   0,   0,   0,   0,   0,   0,   0,\n",
              "          0,   0,   0,   0,   0,   0,   0,   0,   0,   0,   0,   0,   0,\n",
              "          0,   0],\n",
              "       [  0,   0,   0,   0,   0,   0,   0,   0,   0,   0,   0,   0,   0,\n",
              "          0,   0,   0,   0,   0,   0,   0,   0,   0,   0,   0,   0,   0,\n",
              "          0,   0]], dtype=uint8)"
            ]
          },
          "metadata": {},
          "execution_count": 32
        }
      ]
    },
    {
      "cell_type": "code",
      "source": [
        "X_train = X_train/255\n",
        "X_test = X_test/255\n"
      ],
      "metadata": {
        "id": "CCS49Xewn26F"
      },
      "execution_count": 33,
      "outputs": []
    },
    {
      "cell_type": "markdown",
      "source": [
        "The -1 in the reshape command is a placeholder that automatically calculates the size of that dimension based on the other dimensions, ensuring that the total number of elements remains the same."
      ],
      "metadata": {
        "id": "TBhHsXDL5A1T"
      }
    },
    {
      "cell_type": "markdown",
      "source": [
        "in shape (32, 28, 28, 1). This assumes grayscale images. If your images are RGB, you would use (32, 28, 28, 3)."
      ],
      "metadata": {
        "id": "NI-TDTqM5LKS"
      }
    },
    {
      "cell_type": "code",
      "source": [
        "X_train = X_train.reshape(-1,28,28,1)\n",
        "X_train.shape                                                      #ask(-1,28,28,3)"
      ],
      "metadata": {
        "colab": {
          "base_uri": "https://localhost:8080/"
        },
        "id": "wiqcECPd45ii",
        "outputId": "d0002470-55d0-4b3c-a888-0696a542b7e5"
      },
      "execution_count": 38,
      "outputs": [
        {
          "output_type": "execute_result",
          "data": {
            "text/plain": [
              "(60000, 28, 28, 1)"
            ]
          },
          "metadata": {},
          "execution_count": 38
        }
      ]
    },
    {
      "cell_type": "code",
      "source": [
        "X_test = X_test.reshape(-1,28,28,1)\n",
        "X_test.shape"
      ],
      "metadata": {
        "colab": {
          "base_uri": "https://localhost:8080/"
        },
        "id": "oWgZ-f9P5dDY",
        "outputId": "8c5b2179-44aa-423f-8d10-79f27a524ae2"
      },
      "execution_count": 39,
      "outputs": [
        {
          "output_type": "execute_result",
          "data": {
            "text/plain": [
              "(10000, 28, 28, 1)"
            ]
          },
          "metadata": {},
          "execution_count": 39
        }
      ]
    },
    {
      "cell_type": "code",
      "source": [
        "plt.matshow(X_train[0])"
      ],
      "metadata": {
        "id": "kCi-tLuY8lZR",
        "colab": {
          "base_uri": "https://localhost:8080/",
          "height": 455
        },
        "outputId": "9c05843d-bdf9-424d-cc9e-75c09857123d"
      },
      "execution_count": 40,
      "outputs": [
        {
          "output_type": "execute_result",
          "data": {
            "text/plain": [
              "<matplotlib.image.AxesImage at 0x7f819fd9e5c0>"
            ]
          },
          "metadata": {},
          "execution_count": 40
        },
        {
          "output_type": "display_data",
          "data": {
            "text/plain": [
              "<Figure size 480x480 with 1 Axes>"
            ],
            "image/png": "[encoded data removed]"
          },
          "metadata": {}
        }
      ]
    },
    {
      "cell_type": "code",
      "source": [
        "model = models.Sequential([\n",
        "    layers.Conv2D(filters=32, kernel_size=(3, 3), activation='relu', input_shape=(28, 28, 1)),\n",
        "    layers.MaxPooling2D((2, 2)),\n",
        "\n",
        "    layers.Conv2D(filters=64, kernel_size=(3, 3), activation='relu'),\n",
        "    layers.MaxPooling2D((2, 2)),\n",
        "\n",
        "    layers.Flatten(),\n",
        "    layers.Dense(64, activation='relu'),\n",
        "    layers.Dense(10, activation='softmax')\n",
        "])"
      ],
      "metadata": {
        "id": "l6IO_xIHnXx8"
      },
      "execution_count": 42,
      "outputs": []
    },
    {
      "cell_type": "markdown",
      "source": [
        "**What is Max Pooling?**\n",
        "\n",
        "Max pooling is a down-sampling operation applied in CNNs after individual convolutional layers. It reduces the dimensionality of images by decreasing the number of pixels in the output from the previous convolutional layer.\n",
        "\n",
        "Max Pooling Operation:\n",
        "A defined filter size (e.g., 2x2) and stride (e.g., 2) are used for max pooling.\n",
        "The convolutional output is divided into non-overlapping regions (pools), and the maximum value within each region is selected.\n",
        "The selected max values form the output of the max pooling operation.\n",
        "\n",
        "Max Pooling Examples:\n",
        "The presenter uses an example with a 3x3 input and a 2x2 filter with a stride of 2.\n",
        "The max pooling operation is applied, reducing the dimension of the input by a factor of 2.\n",
        "The process involves sliding the filter over the input, selecting max values in each region.\n",
        "\n",
        "Why Use Max Pooling?\n",
        "\n",
        "\n",
        "1.   Reduction in Dimensionality:\n",
        "Max pooling reduces the resolution of the output, enabling the network to analyze larger areas of the image and decreasing the number of parameters\n",
        "2.   Computational Efficiency:\n",
        "By reducing the resolution, max pooling reduces the computational load in subsequent layers.\n",
        "3.   Overfitting Reduction:\n",
        "Max pooling may help reduce overfitting by focusing on the most activated pixels and discarding less relevant details."
      ],
      "metadata": {
        "id": "PjCboHuO8Kff"
      }
    },
    {
      "cell_type": "markdown",
      "source": [
        "**When to use softmax and when to use sigmoid?**\n",
        "\n",
        "If your problem is binary classification, use a single output node with sigmoid activation.\n",
        "If your problem is multi-class classification, use multiple output nodes (one for each class) with softmax activation."
      ],
      "metadata": {
        "id": "qu3XEUmg8tSu"
      }
    },
    {
      "cell_type": "code",
      "source": [
        "model.compile(optimizer='adam',\n",
        "              loss='sparse_categorical_crossentropy',\n",
        "              metrics=['accuracy'])\n",
        "\n",
        "model.fit(X_train, y_train, epochs=5)"
      ],
      "metadata": {
        "colab": {
          "base_uri": "https://localhost:8080/"
        },
        "id": "s3NfxdEL4BIM",
        "outputId": "3c6cd5bd-f209-4940-a3aa-76f294e9aa5a"
      },
      "execution_count": 44,
      "outputs": [
        {
          "output_type": "stream",
          "name": "stdout",
          "text": [
            "Epoch 1/5\n",
            "1875/1875 [==============================] - 55s 28ms/step - loss: 0.0641 - accuracy: 0.9801\n",
            "Epoch 2/5\n",
            "1875/1875 [==============================] - 52s 28ms/step - loss: 0.0367 - accuracy: 0.9883\n",
            "Epoch 3/5\n",
            "1875/1875 [==============================] - 53s 28ms/step - loss: 0.0252 - accuracy: 0.9918\n",
            "Epoch 4/5\n",
            "1875/1875 [==============================] - 57s 30ms/step - loss: 0.0196 - accuracy: 0.9938\n",
            "Epoch 5/5\n",
            "1875/1875 [==============================] - 51s 27ms/step - loss: 0.0146 - accuracy: 0.9952\n"
          ]
        },
        {
          "output_type": "execute_result",
          "data": {
            "text/plain": [
              "<keras.src.callbacks.History at 0x7f8158fd57e0>"
            ]
          },
          "metadata": {},
          "execution_count": 44
        }
      ]
    },
    {
      "cell_type": "code",
      "source": [
        "model.evaluate(X_test,y_test)\n"
      ],
      "metadata": {
        "colab": {
          "base_uri": "https://localhost:8080/"
        },
        "id": "STdQhdO-4F7E",
        "outputId": "d1021154-7286-4249-8813-fb69a8f4c780"
      },
      "execution_count": 45,
      "outputs": [
        {
          "output_type": "stream",
          "name": "stdout",
          "text": [
            "313/313 [==============================] - 5s 14ms/step - loss: 0.0356 - accuracy: 0.9889\n"
          ]
        },
        {
          "output_type": "execute_result",
          "data": {
            "text/plain": [
              "[0.03559353947639465, 0.9889000058174133]"
            ]
          },
          "metadata": {},
          "execution_count": 45
        }
      ]
    }
  ],
  "metadata": {
    "colab": {
      "provenance": [],
      "authorship_tag": "ABX9TyOFCjlf9GvNebojpXZ5HyxR",
      "include_colab_link": true
    },
    "kernelspec": {
      "display_name": "Python 3",
      "name": "python3"
    },
    "language_info": {
      "name": "python"
    }
  },
  "nbformat": 4,
  "nbformat_minor": 0
}